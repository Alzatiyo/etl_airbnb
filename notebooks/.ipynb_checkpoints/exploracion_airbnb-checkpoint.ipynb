{
 "cells": [
  {
   "cell_type": "markdown",
   "id": "4e37f07d",
   "metadata": {},
   "source": [
    "## Analisis Exploratorio de Datos (EDA) - Airbnb Ciudad de Mexico\n",
    "\n",
    "Este notebook tiene como objetivo explorar las dataset extraidos de MongoDB para comprender su estructura, calidad y posibles transformaciones necesarias antes de descargarlos en un Data Warehouse.\n",
    "\n",
    "Se analizaran las siguientes colecciones:\n",
    "- Listings\n",
    "- Reviews\n",
    "- Calendar"
   ]
  },
  {
   "cell_type": "code",
   "execution_count": null,
   "id": "6d1199ab",
   "metadata": {},
   "outputs": [
    {
     "ename": "ModuleNotFoundError",
     "evalue": "No module named 'seaborn'",
     "output_type": "error",
     "traceback": [
      "\u001b[31m---------------------------------------------------------------------------\u001b[39m",
      "\u001b[31mModuleNotFoundError\u001b[39m                       Traceback (most recent call last)",
      "\u001b[36mCell\u001b[39m\u001b[36m \u001b[39m\u001b[32mIn[1]\u001b[39m\u001b[32m, line 6\u001b[39m\n\u001b[32m      3\u001b[39m sys.path.append(os.path.abspath(os.path.join(os.getcwd(), \u001b[33m'\u001b[39m\u001b[33m..\u001b[39m\u001b[33m'\u001b[39m)))\n\u001b[32m      4\u001b[39m \u001b[38;5;28;01mfrom\u001b[39;00m\u001b[38;5;250m \u001b[39m\u001b[34;01msrc\u001b[39;00m\u001b[34;01m.\u001b[39;00m\u001b[34;01mextraccion\u001b[39;00m\u001b[38;5;250m \u001b[39m\u001b[38;5;28;01mimport\u001b[39;00m Extraccion\n\u001b[32m----> \u001b[39m\u001b[32m6\u001b[39m \u001b[38;5;28;01mimport\u001b[39;00m\u001b[38;5;250m \u001b[39m\u001b[34;01mseaborn\u001b[39;00m\u001b[38;5;250m \u001b[39m\u001b[38;5;28;01mas\u001b[39;00m\u001b[38;5;250m \u001b[39m\u001b[34;01msns\u001b[39;00m\n\u001b[32m      7\u001b[39m \u001b[38;5;28;01mimport\u001b[39;00m\u001b[38;5;250m \u001b[39m\u001b[34;01mmatplotlib\u001b[39;00m\u001b[34;01m.\u001b[39;00m\u001b[34;01mpyplot\u001b[39;00m\u001b[38;5;250m \u001b[39m\u001b[38;5;28;01mas\u001b[39;00m\u001b[38;5;250m \u001b[39m\u001b[34;01mplt\u001b[39;00m\n\u001b[32m      9\u001b[39m extraccion = Extraccion()\n",
      "\u001b[31mModuleNotFoundError\u001b[39m: No module named 'seaborn'"
     ]
    }
   ],
   "source": [
    "import sys\n",
    "import os\n",
    "sys.path.append(os.path.abspath(os.path.join(os.getcwd(), '..')))\n",
    "from src.extraccion import Extraccion\n",
    "\n",
    "import seaborn as sns\n",
    "import matplotlib.pyplot as plt\n",
    "\n",
    "extraccion = Extraccion()\n",
    "df_listings = extraccion.obtener_datos('MX_listings')\n",
    "df_reviews = extraccion.obtener_datos('MX_reviews')\n",
    "df_calendar = extraccion.obtener_datos('MX_calendar') \n",
    "\n",
    "#------Primeras filas-----\n",
    "\n",
    "df_listings.head()\n",
    "df_reviews.head()\n",
    "df_calendar.head()\n",
    "\n",
    "#-----Dimensiones--------\n",
    "\n",
    "print(\"Listings:\", df_listings.shape)\n",
    "print(\"Reviews:\", df_reviews.shape)\n",
    "print(\"Calendar:\", df_calendar.shape)\n",
    "\n",
    "#-------Tipos de datos----\n",
    "\n",
    "df_listings.info()\n",
    "df_reviews.info()\n",
    "df_calendar.info()\n",
    "\n",
    "#------Valores nulos------\n",
    "\n",
    "df_listings.isnull().sum()\n",
    "df_reviews.isnull().sum()\n",
    "df_calendar.isnull().sum()\n",
    "\n",
    "#------Duplicados-------\n",
    "\n",
    "print(\"Listings duplicados:\", df_listings.duplicated().sum())\n",
    "print(\"Reviews duplicados:\", df_reviews.duplicated().sum())\n",
    "print(\"Calendar duplicados:\", df_calendar.duplicated().sum())"
   ]
  },
  {
   "cell_type": "code",
   "execution_count": null,
   "id": "02492b59",
   "metadata": {},
   "outputs": [],
   "source": [
    "\n",
    "#-----Boxplot de precios-----\n",
    "\n",
    "sns.boxplot(x=df_listings['price'])\n",
    "plt.title(\"Distribución de precios\")\n",
    "plt.show()\n",
    "\n",
    "#-----Estadisticas descriptivas-----\n",
    "\n",
    "df_listings[['price', 'minimun_nights', 'availability_365']].describe()\n",
    "\n",
    "#------Campos anidados-----\n",
    "\n",
    "df_listings['amenities'].head()\n",
    "\n",
    "#-----Agrupacion por mes-----\n",
    "df_calendar['date']= pd.to_datetime(df_calendar['date'])\n",
    "df_calendar['month'] = df_calendar['date'].dt.month\n",
    "df_calendar.groupby('month')['available'].sum()\n",
    "\n",
    "#------Limpieza de datos-----\n",
    "df_listings['price'] = df_listings['price'].replace('[\\$,]', '', regex=True).astype(float)\n",
    "\n",
    "#--------Histograma de precios--------\n",
    "plt.hist(df_listings['price'], bins=50)\n",
    "plt.title(\"Histograma de precios\")\n",
    "plt.xlabel(\"Precio\")\n",
    "plt.ylabel(\"Frecuencia\")\n",
    "plt.show()\n",
    "\n",
    "#--------Disponibilidad por mes---------\n",
    "df_calendar.groupby('month')['available'].sum().plot(kind='bar')\n",
    "plt.title(\"Disponibilidad por mes\")\n",
    "plt.xlabel(\"Mes\")\n",
    "plt.ylabel(\"Total disponible\")\n",
    "plt.show()\n"
   ]
  },
  {
   "cell_type": "markdown",
   "id": "2b87b1ad",
   "metadata": {},
   "source": [
    "# Hallazgos del EDA\n",
    "\n",
    "- La columna `price` contiene símbolos que deben limpiarse para convertir a tipo numérico.\n",
    "- Se detectaron valores extremos en `minimum_nights`, algunos con más de 1000 noches.\n",
    "- `amenities` es una lista que puede expandirse en columnas binarias para análisis.\n",
    "- El campo `date` en `calendar` puede usarse para derivar mes, año y trimestre.\n",
    "- Existen valores nulos en varias columnas que deben tratarse en la fase de transformación."
   ]
  }
 ],
 "metadata": {
  "kernelspec": {
   "display_name": "Python 3",
   "language": "python",
   "name": "python3"
  },
  "language_info": {
   "codemirror_mode": {
    "name": "ipython",
    "version": 3
   },
   "file_extension": ".py",
   "mimetype": "text/x-python",
   "name": "python",
   "nbconvert_exporter": "python",
   "pygments_lexer": "ipython3",
   "version": "3.12.4"
  }
 },
 "nbformat": 4,
 "nbformat_minor": 5
}
